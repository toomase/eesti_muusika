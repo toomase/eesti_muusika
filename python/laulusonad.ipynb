{
 "cells": [
  {
   "cell_type": "code",
   "execution_count": 3,
   "metadata": {
    "collapsed": false
   },
   "outputs": [],
   "source": [
    "# Kasuta eesti keele tekstitöötlust, et jagada laulusõnad eraldi sõnadeks ja nendest omakorda tuletada lemmad\n",
    "# Lae andmed ja tee eeltöötlus\n",
    "import pandas as pd\n",
    "from estnltk import Text\n",
    "lood_sonadega = pd.read_table('C:/Users/toomase/Dropbox/DataScience/R/eesti_muusika/output/lood_sonadega.csv', sep = ';')\n",
    "# laulusõnad ühe veeruna\n",
    "lood = lood_sonadega[pd.notnull(lood_sonadega['sonad'])]\n",
    "laulusonad = lood['sonad']\n",
    "\n",
    "# for loop, mis leiab kõigi laulusõnade lemmad\n",
    "list_ = []\n",
    "for sonad in laulusonad:\n",
    "    # estnltk paketist teksti formaati\n",
    "    text = Text(sonad)\n",
    "    # dataframe formaadis kõikide laulude sõnad ja lemmad\n",
    "    df = text.get.word_texts.lemmas.postag_descriptions.as_dataframe\n",
    "    # esimesed 10 tähte laulusõnadest, et sõnad hiljem koondtabeliga siduda\n",
    "    df[\"sonad\"] = sonad[:10]\n",
    "    # andmed ühte listi kokku\n",
    "    list_.append(df)\n",
    "    # listist dataframe\n",
    "    laulusonad_lemmadega = pd.concat(list_)"
   ]
  },
  {
   "cell_type": "code",
   "execution_count": 8,
   "metadata": {
    "collapsed": false
   },
   "outputs": [],
   "source": [
    "# salvesta csv\n",
    "laulusonad_lemmadega.to_csv('C:/Users/toomase/Dropbox/DataScience/R/eesti_muusika/python/laulusonad_lemmadega.csv', \n",
    "                            encoding='utf-8', index = False)"
   ]
  }
 ],
 "metadata": {
  "kernelspec": {
   "display_name": "Python 3",
   "language": "python",
   "name": "python3"
  },
  "language_info": {
   "codemirror_mode": {
    "name": "ipython",
    "version": 3
   },
   "file_extension": ".py",
   "mimetype": "text/x-python",
   "name": "python",
   "nbconvert_exporter": "python",
   "pygments_lexer": "ipython3",
   "version": "3.4.4"
  }
 },
 "nbformat": 4,
 "nbformat_minor": 0
}
